{
 "cells": [
  {
   "cell_type": "code",
   "execution_count": 5,
   "metadata": {},
   "outputs": [],
   "source": [
    "import struct\n",
    "import socket\n",
    "import logging\n",
    "import threading\n",
    "import sys\n",
    "import time\n",
    "import math\n",
    "from abc import ABC, abstractmethod"
   ]
  },
  {
   "cell_type": "markdown",
   "metadata": {},
   "source": [
    "Настройка logging взятая с первой ссылки StackOverflow (https://stackoverflow.com/questions/14058453/making-python-loggers-output-all-messages-to-stdout-in-addition-to-log-file). Офк я чуть-чуть подредактировал"
   ]
  },
  {
   "cell_type": "code",
   "execution_count": 6,
   "metadata": {},
   "outputs": [],
   "source": [
    "file_handler = logging.FileHandler(filename='tmp.log')\n",
    "stdout_handler = logging.StreamHandler(stream=sys.stdout)\n",
    "handlers = [stdout_handler]\n",
    "# handlers = [file_handler, stdout_handler]\n",
    "\n",
    "logging.basicConfig(\n",
    "    level=logging.DEBUG, \n",
    "    format='[%(asctime)s] %(name)s - %(message)s',\n",
    "    handlers=handlers\n",
    ")"
   ]
  },
  {
   "cell_type": "code",
   "execution_count": 7,
   "metadata": {},
   "outputs": [],
   "source": [
    "HOST = 'localhost'\n",
    "PORT = 12345"
   ]
  },
  {
   "cell_type": "markdown",
   "metadata": {},
   "source": [
    "Интерфейс протокола для обрабоки приема и передачи сообщений маленького размера. Мы даже сделали класс абстрактным"
   ]
  },
  {
   "cell_type": "code",
   "execution_count": 8,
   "metadata": {},
   "outputs": [],
   "source": [
    "class RecvSendMsgsProtocol(ABC):\n",
    "    MSG_SIZE = 16 # маленький размер (если в байтах)\n",
    "    \n",
    "    @abstractmethod\n",
    "    def recv(self, connected_socket):\n",
    "        return ''\n",
    "    \n",
    "    \n",
    "    @abstractmethod\n",
    "    def send(self, connected_socket, text):\n",
    "        pass"
   ]
  },
  {
   "cell_type": "markdown",
   "metadata": {},
   "source": [
    "Класс сервера, у которого есть метод запуска, сценарий взаимодействия. Сервер использует протокол с интерфейсом выше"
   ]
  },
  {
   "cell_type": "code",
   "execution_count": 9,
   "metadata": {},
   "outputs": [],
   "source": [
    "class Server:\n",
    "    def __init__(self, protocol_handler, host=HOST, port=PORT):\n",
    "        self.host = host\n",
    "        self.port = port\n",
    "        self.protocol_handler = protocol_handler\n",
    "        self.logger = logging.getLogger('Server')\n",
    "        \n",
    "        \n",
    "    def handle_client(self, client_socket):\n",
    "        recv_text = self.protocol_handler.recv(client_socket)\n",
    "        self.logger.info(f'recv \"{recv_text}\"')\n",
    "        recv_text = self.protocol_handler.recv(client_socket)\n",
    "        self.logger.info(f'recv \"{recv_text}\"')\n",
    "        send_text = '?'*20\n",
    "        self.protocol_handler.send(client_socket, send_text)\n",
    "        self.logger.info(f'send \"{send_text}\"')\n",
    "        recv_text = self.protocol_handler.recv(client_socket)\n",
    "        self.logger.info(f'recv \"{recv_text}\"')\n",
    "        send_text = '!'*20\n",
    "        self.protocol_handler.send(client_socket, send_text)\n",
    "        self.logger.info(f'send \"{send_text}\"')\n",
    "        \n",
    "    \n",
    "    def run(self):\n",
    "        with socket.socket(socket.AF_INET, socket.SOCK_STREAM) as s:\n",
    "            s.setsockopt(socket.SOL_SOCKET, socket.SO_REUSEADDR, 1)\n",
    "            s.bind((self.host, self.port))\n",
    "            self.logger.info(f'started on {(self.host, self.port)}')\n",
    "            s.listen(1)\n",
    "#             while True:\n",
    "            client, addr = s.accept()\n",
    "            with client:\n",
    "                self.logger.info(f'connect {addr}')\n",
    "                self.handle_client(client)\n",
    "\n",
    "            self.logger.info(f'closed on {(self.host, self.port)}')"
   ]
  },
  {
   "cell_type": "markdown",
   "metadata": {},
   "source": [
    "Как сервер только клиент)"
   ]
  },
  {
   "cell_type": "code",
   "execution_count": 10,
   "metadata": {},
   "outputs": [],
   "source": [
    "class Client:\n",
    "    def __init__(self, protocol_handler, host=HOST, port=PORT):\n",
    "        self.host = host\n",
    "        self.port = port\n",
    "        self.protocol_handler = protocol_handler\n",
    "        self.logger = logging.getLogger('Client')\n",
    "        \n",
    "    \n",
    "    def run(self):\n",
    "        with socket.socket(socket.AF_INET, socket.SOCK_STREAM) as s:\n",
    "            s.connect((self.host, self.port))\n",
    "            send_text = 'Hello '*5\n",
    "            self.protocol_handler.send(s, send_text)\n",
    "            self.logger.info(f'send \"{send_text}\"')\n",
    "            send_text = 'World '*5\n",
    "            self.protocol_handler.send(s, send_text)\n",
    "            self.logger.info(f'send \"{send_text}\"')\n",
    "            recv_text = self.protocol_handler.recv(s)\n",
    "            self.logger.info(f'recv \"{recv_text}\"')\n",
    "            send_text = 'Bye bye '*5\n",
    "            self.protocol_handler.send(s, send_text)\n",
    "            self.logger.info(f'send \"{send_text}\"')\n",
    "            recv_text = self.protocol_handler.recv(s)\n",
    "            self.logger.info(f'recv \"{recv_text}\"')"
   ]
  },
  {
   "cell_type": "markdown",
   "metadata": {},
   "source": [
    "Протокол, который сначала присылает размер посылки, а потом саму посылку."
   ]
  },
  {
   "cell_type": "code",
   "execution_count": 11,
   "metadata": {},
   "outputs": [],
   "source": [
    "class SizeProtocol(RecvSendMsgsProtocol):\n",
    "    def recv(self, connected_socket):\n",
    "        data = connected_socket.recv(struct.calcsize('I')) # читаем данный размера int\n",
    "        size, = struct.unpack('I', data) # читаем ожидаемый размер посылки\n",
    "        res_data = b''\n",
    "        while len(res_data) < size: # пока то, что мы прочитали меньше ожидаемого - читаем дальше\n",
    "            data = connected_socket.recv(min(self.MSG_SIZE, size-len(res_data))) # а если две посылки слипнутся? надо читать только свое, отсюда min\n",
    "            res_data += data\n",
    "        return res_data.decode()\n",
    "    \n",
    "    \n",
    "    def send(self, connected_socket, text):\n",
    "        connected_socket.send(struct.pack('I', len(text))) # пакуем и отправляем размер\n",
    "        connected_socket.sendall(text.encode()) # отпраляем остальное"
   ]
  },
  {
   "cell_type": "markdown",
   "metadata": {},
   "source": [
    "Протокол, который отправляет данные пакетами фиксированного размера и формата. Номер пакета, последний номер пакета, посылка(фиксированного размера)."
   ]
  },
  {
   "cell_type": "code",
   "execution_count": 12,
   "metadata": {},
   "outputs": [],
   "source": [
    "class NumberProtocol(RecvSendMsgsProtocol):\n",
    "    DATA_SIZE = SizeProtocol.MSG_SIZE - struct.calcsize('II') # мы заранее посчитаем сколько отводится под данные\n",
    "    DATA_TEMPLATE = f'II{DATA_SIZE}s' # Соберем шаблон, чтоб каждый раз так не делать\n",
    "    \n",
    "    def recv(self, connected_socket):\n",
    "        data = connected_socket.recv(self.MSG_SIZE) # Читаем данные\n",
    "        number, last, msg = struct.unpack(self.DATA_TEMPLATE, data) # распаковываем по шаблону\n",
    "        res_data = msg\n",
    "        while number < last: # пока пакет не последний мы читаем\n",
    "            data = connected_socket.recv(self.MSG_SIZE)\n",
    "            number, last, msg = struct.unpack(self.DATA_TEMPLATE, data)\n",
    "            res_data += msg\n",
    "        return res_data.decode()\n",
    "    \n",
    "    \n",
    "    def send(self, connected_socket, text):\n",
    "        last_number = math.ceil(len(text) / self.DATA_SIZE) - 1 # Считаем последний пакет\n",
    "        for i in range(0, len(text), self.DATA_SIZE): # Делаем срезы данных\n",
    "            chunck = text[i:i+self.DATA_SIZE] # Вот и срез\n",
    "            number = i // self.DATA_SIZE # Номер текущего пакета \n",
    "            connected_socket.send(struct.pack(self.DATA_TEMPLATE, number, last_number, chunck.encode())) # сборка и отправка"
   ]
  },
  {
   "cell_type": "markdown",
   "metadata": {},
   "source": [
    "Протокол, который читает все, что пришло, снимая блокировку с чтения. Надо ли так делать? - нет. Можно ли так сделать в рамках лабораторной? - да. Почему так? Потому что если пакеты придут одновременно, но от разных сообщений, то они прочитаются как одно сообщение... Как это исправить? Отправлять сигнал, что сообщение принято, а значит отправляться следующее сообщение можно"
   ]
  },
  {
   "cell_type": "code",
   "execution_count": 13,
   "metadata": {},
   "outputs": [],
   "source": [
    "class BlockingProtocol(RecvSendMsgsProtocol):\n",
    "    def recv(self, connected_socket):\n",
    "        res_data = b''\n",
    "        data = connected_socket.recv(self.MSG_SIZE) # С блокировкой ждем начала сообщения\n",
    "        connected_socket.setblocking(False) # Снимаем блокировку\n",
    "        while data:\n",
    "            res_data += data\n",
    "            try: # Если мы пытаемся читать, а там пусто, то падает ошибка. Считаем, что сообщение закончилось\n",
    "                data = connected_socket.recv(self.MSG_SIZE)\n",
    "            except:\n",
    "                break\n",
    "        connected_socket.setblocking(True) # Ставим ее обратно\n",
    "        connected_socket.send(b'ok')\n",
    "        return res_data.decode()\n",
    "    \n",
    "    \n",
    "    def send(self, connected_socket, text):\n",
    "        connected_socket.sendall(text.encode()) # просто отправляем все, что есть\n",
    "        response = connected_socket.recv(self.MSG_SIZE).decode() # ответ, что сообщение принято\n",
    "        if response != 'ok': # если в ответе все плохо, то все плохо, что еще поделать то?\n",
    "            pass"
   ]
  },
  {
   "cell_type": "markdown",
   "metadata": {},
   "source": [
    "Тестирум, запускаем сервер и клиент в разных потоках"
   ]
  },
  {
   "cell_type": "code",
   "execution_count": 14,
   "metadata": {},
   "outputs": [],
   "source": [
    "def test(protocol_cls):\n",
    "    server = Server(protocol_cls())\n",
    "    client = Client(protocol_cls())\n",
    "    \n",
    "    t_s = threading.Thread(target=Server.run, args=[server]) # Почему так? Потому что self - это на самом деле первый аргумент\n",
    "    t_c = threading.Thread(target=client.run, args=[]) # А это второй вариант той же записи\n",
    "    t_s.start()\n",
    "    time.sleep(1) # Чтоб сервер успел запуститься\n",
    "    t_c.start()\n",
    "    t_c.join() # Ждем завершения потоков\n",
    "    t_s.join()"
   ]
  },
  {
   "cell_type": "code",
   "execution_count": 15,
   "metadata": {},
   "outputs": [
    {
     "name": "stdout",
     "output_type": "stream",
     "text": [
      "[2024-04-09 20:25:14,423] Server - started on ('localhost', 12345)\n",
      "[2024-04-09 20:25:15,425] Server - connect ('192.168.1.66', 38742)\n",
      "[2024-04-09 20:25:15,425] Client - send \"Hello Hello Hello Hello Hello \"\n",
      "[2024-04-09 20:25:15,428] Server - recv \"Hello Hello Hello Hello Hello \"\n",
      "[2024-04-09 20:25:15,431] Client - send \"World World World World World \"\n",
      "[2024-04-09 20:25:15,433] Server - recv \"World World World World World \"\n",
      "[2024-04-09 20:25:15,440] Client - recv \"????????????????????\"\n",
      "[2024-04-09 20:25:15,440] Server - send \"????????????????????\"\n",
      "[2024-04-09 20:25:15,444] Client - send \"Bye bye Bye bye Bye bye Bye bye Bye bye \"\n",
      "[2024-04-09 20:25:15,486] Server - recv \"Bye bye Bye bye Bye bye Bye bye Bye bye \"\n",
      "[2024-04-09 20:25:15,487] Server - send \"!!!!!!!!!!!!!!!!!!!!\"\n",
      "[2024-04-09 20:25:15,488] Server - closed on ('localhost', 12345)\n",
      "[2024-04-09 20:25:15,488] Client - recv \"!!!!!!!!!!!!!!!!!!!!\"\n"
     ]
    }
   ],
   "source": [
    "test(SizeProtocol)"
   ]
  },
  {
   "cell_type": "code",
   "execution_count": 16,
   "metadata": {},
   "outputs": [
    {
     "name": "stdout",
     "output_type": "stream",
     "text": [
      "[2024-04-09 20:25:15,497] Server - started on ('localhost', 12345)\n",
      "[2024-04-09 20:25:16,499] Server - connect ('192.168.1.66', 38752)\n",
      "[2024-04-09 20:25:16,501] Client - send \"Hello Hello Hello Hello Hello \"\n",
      "[2024-04-09 20:25:16,504] Server - recv \"Hello Hello Hello Hello Hello \u0000\u0000\"\n",
      "[2024-04-09 20:25:16,510] Client - send \"World World World World World \"\n",
      "[2024-04-09 20:25:16,512] Server - recv \"World World World World World \u0000\u0000\"\n",
      "[2024-04-09 20:25:16,516] Server - send \"????????????????????\"\n",
      "[2024-04-09 20:25:16,517] Client - recv \"????????????????????\u0000\u0000\u0000\u0000\"\n",
      "[2024-04-09 20:25:16,524] Client - send \"Bye bye Bye bye Bye bye Bye bye Bye bye \"\n",
      "[2024-04-09 20:25:16,562] Server - recv \"Bye bye Bye bye Bye bye Bye bye Bye bye \"\n",
      "[2024-04-09 20:25:16,564] Server - send \"!!!!!!!!!!!!!!!!!!!!\"\n",
      "[2024-04-09 20:25:16,565] Server - closed on ('localhost', 12345)\n",
      "[2024-04-09 20:25:16,565] Client - recv \"!!!!!!!!!!!!!!!!!!!!\u0000\u0000\u0000\u0000\"\n"
     ]
    }
   ],
   "source": [
    "test(NumberProtocol)"
   ]
  },
  {
   "cell_type": "code",
   "execution_count": 17,
   "metadata": {},
   "outputs": [
    {
     "name": "stdout",
     "output_type": "stream",
     "text": [
      "[2024-04-09 20:25:16,574] Server - started on ('localhost', 12345)\n",
      "[2024-04-09 20:25:17,579] Server - connect ('192.168.1.66', 38760)\n",
      "[2024-04-09 20:25:17,582] Server - recv \"Hello Hello Hello Hello Hello \"\n",
      "[2024-04-09 20:25:17,583] Client - send \"Hello Hello Hello Hello Hello \"\n",
      "[2024-04-09 20:25:17,591] Server - recv \"World World World World World \"\n",
      "[2024-04-09 20:25:17,592] Client - send \"World World World World World \"\n",
      "[2024-04-09 20:25:17,634] Client - recv \"????????????????????\"\n",
      "[2024-04-09 20:25:17,635] Server - send \"????????????????????\"\n",
      "[2024-04-09 20:25:17,678] Server - recv \"Bye bye Bye bye Bye bye Bye bye Bye bye \"\n",
      "[2024-04-09 20:25:17,678] Client - send \"Bye bye Bye bye Bye bye Bye bye Bye bye \"\n",
      "[2024-04-09 20:25:17,722] Client - recv \"!!!!!!!!!!!!!!!!!!!!\"\n",
      "[2024-04-09 20:25:17,722] Server - send \"!!!!!!!!!!!!!!!!!!!!\"\n",
      "[2024-04-09 20:25:17,724] Server - closed on ('localhost', 12345)\n"
     ]
    }
   ],
   "source": [
    "test(BlockingProtocol)"
   ]
  }
 ],
 "metadata": {
  "kernelspec": {
   "display_name": "Python 3 (ipykernel)",
   "language": "python",
   "name": "python3"
  },
  "language_info": {
   "codemirror_mode": {
    "name": "ipython",
    "version": 3
   },
   "file_extension": ".py",
   "mimetype": "text/x-python",
   "name": "python",
   "nbconvert_exporter": "python",
   "pygments_lexer": "ipython3",
   "version": "3.11.2"
  }
 },
 "nbformat": 4,
 "nbformat_minor": 2
}
