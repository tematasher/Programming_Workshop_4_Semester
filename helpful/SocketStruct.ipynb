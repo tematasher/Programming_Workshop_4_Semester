{
 "cells": [
  {
   "cell_type": "code",
   "execution_count": 28,
   "metadata": {},
   "outputs": [],
   "source": [
    "import socket\n",
    "import struct"
   ]
  },
  {
   "cell_type": "markdown",
   "metadata": {},
   "source": [
    "Использование socket вы можете нагуглить и без меня, ниже пример тестового кода. Подобное можно встретить на просторах интернета в несчетных количествах(а это значит, что нужно рассмотреть возможность скопипастить код с, например, stackoverflow)."
   ]
  },
  {
   "cell_type": "markdown",
   "metadata": {},
   "source": [
    "Системные порты кончаются на 1024ом, их вам система просто так не даст.\n",
    "Поэтому нужно выбирать порт 1024+, но не более 65000, где-то там значение 2^16 (16 битная адресация все таки)."
   ]
  },
  {
   "cell_type": "code",
   "execution_count": 237,
   "metadata": {},
   "outputs": [],
   "source": [
    "PORT = 64999"
   ]
  },
  {
   "cell_type": "code",
   "execution_count": 238,
   "metadata": {},
   "outputs": [],
   "source": [
    "server_socket = socket.socket(socket.AF_INET, socket.SOCK_STREAM)\n",
    "server_socket.bind((\"localhost\", PORT))\n",
    "server_socket.listen(1) #мы ожидаем 1ого клиента"
   ]
  },
  {
   "cell_type": "code",
   "execution_count": 239,
   "metadata": {},
   "outputs": [],
   "source": [
    "client_socket = socket.socket(socket.AF_INET, socket.SOCK_STREAM)\n",
    "client_socket.connect((\"localhost\", PORT))"
   ]
  },
  {
   "cell_type": "code",
   "execution_count": 240,
   "metadata": {},
   "outputs": [],
   "source": [
    "client, addr = server_socket.accept()"
   ]
  },
  {
   "cell_type": "code",
   "execution_count": 241,
   "metadata": {},
   "outputs": [
    {
     "data": {
      "text/plain": [
       "14"
      ]
     },
     "execution_count": 241,
     "metadata": {},
     "output_type": "execute_result"
    }
   ],
   "source": [
    "client_socket.send(\"Hello, server!\".encode())"
   ]
  },
  {
   "cell_type": "code",
   "execution_count": 242,
   "metadata": {},
   "outputs": [
    {
     "name": "stdout",
     "output_type": "stream",
     "text": [
      "Hello, server!\n"
     ]
    }
   ],
   "source": [
    "data = client.recv(1024)\n",
    "print(data.decode())"
   ]
  },
  {
   "cell_type": "markdown",
   "metadata": {},
   "source": [
    "Чтоб разобраться в том, что такое struct, нужно либо найти документацию(ха ха), либо воспользоваться dir + help."
   ]
  },
  {
   "cell_type": "code",
   "execution_count": 243,
   "metadata": {},
   "outputs": [],
   "source": [
    "# dir(struct)"
   ]
  },
  {
   "cell_type": "code",
   "execution_count": 244,
   "metadata": {},
   "outputs": [],
   "source": [
    "# help(struct)"
   ]
  },
  {
   "cell_type": "markdown",
   "metadata": {},
   "source": [
    "\\#help(struct)\n",
    "Вот особенно интересный кусок __хелпа__.\n",
    "\n",
    "The optional first format char indicates byte order, size and alignment:\n",
    " * @: native order, size & alignment (default)\n",
    " * =: native order, std. size & alignment\n",
    " * <: little-endian, std. size & alignment\n",
    " * \\>: big-endian, std. size & alignment\n",
    " * !: same as >\n",
    "\n",
    "The remaining chars indicate types of args and must match exactly;\n",
    "these can be preceded by a decimal repeat count:\n",
    " * x: pad byte (no data); c:char; b:signed byte; B:unsigned byte;\n",
    " * ?: _Bool (requires C99; if not available, char is used instead)\n",
    " * h:short; H:unsigned short; i:int; I:unsigned int;\n",
    " * l:long; L:unsigned long; f:float; d:double; e:half-float.\n",
    "Special cases (preceding decimal count indicates length):\n",
    " * s:string (array of char); p: pascal string (with count byte).\n",
    "Special cases (only available in native format):\n",
    " * n:ssize_t; N:size_t;\n",
    " * P:an integer type that is wide enough to hold a pointer.\n",
    "Special case (not in native mode unless 'long long' in platform C):\n",
    " * q:long long; Q:unsigned long long\n",
    "Whitespace between formats is ignored."
   ]
  },
  {
   "cell_type": "code",
   "execution_count": 245,
   "metadata": {},
   "outputs": [
    {
     "data": {
      "text/plain": [
       "'01000000'"
      ]
     },
     "execution_count": 245,
     "metadata": {},
     "output_type": "execute_result"
    }
   ],
   "source": [
    "struct.pack('i', 1).hex()"
   ]
  },
  {
   "cell_type": "code",
   "execution_count": 246,
   "metadata": {},
   "outputs": [
    {
     "data": {
      "text/plain": [
       "'0100000001000000'"
      ]
     },
     "execution_count": 246,
     "metadata": {},
     "output_type": "execute_result"
    }
   ],
   "source": [
    "struct.pack('ii', 1, 1).hex()"
   ]
  },
  {
   "cell_type": "code",
   "execution_count": 247,
   "metadata": {},
   "outputs": [
    {
     "data": {
      "text/plain": [
       "'ffffff7f'"
      ]
     },
     "execution_count": 247,
     "metadata": {},
     "output_type": "execute_result"
    }
   ],
   "source": [
    "struct.pack('i', 2**31-1).hex()"
   ]
  },
  {
   "cell_type": "code",
   "execution_count": 248,
   "metadata": {},
   "outputs": [
    {
     "data": {
      "text/plain": [
       "'ffffffff'"
      ]
     },
     "execution_count": 248,
     "metadata": {},
     "output_type": "execute_result"
    }
   ],
   "source": [
    "struct.pack('I', 2**32-1).hex()"
   ]
  },
  {
   "cell_type": "code",
   "execution_count": 249,
   "metadata": {},
   "outputs": [
    {
     "data": {
      "text/plain": [
       "b'aaaA'"
      ]
     },
     "execution_count": 249,
     "metadata": {},
     "output_type": "execute_result"
    }
   ],
   "source": [
    "struct.pack('4s', 'aaaA'.encode())"
   ]
  },
  {
   "cell_type": "markdown",
   "metadata": {},
   "source": [
    "Посмотрев выше можно сделать вывод, что в рамках данного курса не важно в какой именно форме будет байтовый массив. Достаточно принять тот факт, что struct.pack переводит в __какой-то__ формат."
   ]
  },
  {
   "cell_type": "code",
   "execution_count": 250,
   "metadata": {},
   "outputs": [
    {
     "data": {
      "text/plain": [
       "8"
      ]
     },
     "execution_count": 250,
     "metadata": {},
     "output_type": "execute_result"
    }
   ],
   "source": [
    "struct.calcsize('ii')"
   ]
  },
  {
   "cell_type": "code",
   "execution_count": 251,
   "metadata": {},
   "outputs": [
    {
     "data": {
      "text/plain": [
       "8"
      ]
     },
     "execution_count": 251,
     "metadata": {},
     "output_type": "execute_result"
    }
   ],
   "source": [
    "client_socket.send(struct.pack('ii', 1, 2))"
   ]
  },
  {
   "cell_type": "code",
   "execution_count": 252,
   "metadata": {},
   "outputs": [
    {
     "name": "stdout",
     "output_type": "stream",
     "text": [
      "(1, 2)\n"
     ]
    }
   ],
   "source": [
    "data = client.recv(1024)\n",
    "print(struct.unpack('ii', data))"
   ]
  },
  {
   "cell_type": "code",
   "execution_count": 253,
   "metadata": {},
   "outputs": [
    {
     "name": "stdout",
     "output_type": "stream",
     "text": [
      "1\n",
      "2\n",
      "3\n",
      "4\n"
     ]
    }
   ],
   "source": [
    "for i, in struct.iter_unpack('i', struct.pack('iiii', 1, 2, 3, 4)):\n",
    "    print(i)"
   ]
  },
  {
   "cell_type": "markdown",
   "metadata": {},
   "source": [
    "Ниже представлен код, в котором вам самим было бы неплохо разобраться, удачи)"
   ]
  },
  {
   "cell_type": "code",
   "execution_count": 254,
   "metadata": {},
   "outputs": [
    {
     "name": "stdout",
     "output_type": "stream",
     "text": [
      "20000 == 20000\n",
      "!!!!!!!!!!!!!!!!!!!... 20000\n"
     ]
    }
   ],
   "source": [
    "string = '!'*20000 # много много символов\n",
    "client_socket.send(struct.pack(f'I{len(string)}s', len(string), string.encode()))\n",
    "\n",
    "data = client.recv(1024)\n",
    "\n",
    "recv_size0, = struct.iter_unpack('I', data).__iter__().__next__()\n",
    "recv_size1, = struct.unpack('I', data[:struct.calcsize('I')])\n",
    "print(f'{recv_size0} == {recv_size1}')\n",
    "\n",
    "expected_max_string_size = 1024 - struct.calcsize('I') #то что здесь magic number, не значит, что так надо делать) \n",
    "current_extracting_size = recv_size0 if recv_size0 < expected_max_string_size else expected_max_string_size\n",
    "\n",
    "_, string_buff = struct.unpack(f'I{current_extracting_size}s', data)\n",
    "\n",
    "recv_size0 -= current_extracting_size\n",
    "expected_max_string_size = 1024\n",
    "\n",
    "while recv_size0 > 0:\n",
    "    current_extracting_size = recv_size0 if recv_size0 < expected_max_string_size else expected_max_string_size\n",
    "    \n",
    "    data = client.recv(1024)\n",
    "    string_buff += struct.unpack(f'{current_extracting_size}s', data)[0]\n",
    "    \n",
    "    recv_size0 -= current_extracting_size\n",
    "\n",
    "recv_string = string_buff.decode()\n",
    "\n",
    "print(f'{recv_string[-1:-20:-1]}... {len(recv_string)}')"
   ]
  },
  {
   "cell_type": "code",
   "execution_count": null,
   "metadata": {},
   "outputs": [
    {
     "name": "stdout",
     "output_type": "stream",
     "text": [
      "!!!!!\n"
     ]
    }
   ],
   "source": []
  },
  {
   "cell_type": "markdown",
   "metadata": {},
   "source": [
    "Не забываем закрыть соединения. Напоминаю про ключевое слово __with__."
   ]
  },
  {
   "cell_type": "code",
   "execution_count": null,
   "metadata": {},
   "outputs": [
    {
     "name": "stdout",
     "output_type": "stream",
     "text": [
      "(2,)\n"
     ]
    }
   ],
   "source": []
  },
  {
   "cell_type": "markdown",
   "metadata": {},
   "source": [
    "В рамках второй лабораторной у вас должна возникнуть проблема, состоящая в следующем:\n",
    "* вы устанавливаете соединение;\n",
    "* отправляете данные в нескольких пакетах(ок, sendall отправит все разом, но читать вы будете все равно буфером ограниченного размера);\n",
    "* вы прочитали N пакетов, но не смогли остановиться...\n",
    "* socket.socket.recv блокирует поток в ожидании данных и программа зависает.\n",
    "\n",
    "Как с этим можно справиться? можно спросить меня на паре или прочитать ниже:\n",
    "* После того как вы досылаете последний пакет, закрывайте соединение(см. with). Читать из закрытого соединения нельзя, что значит socket.socket.recv прочитает 0 байт и блокировать ничего не будет;\n",
    "* Отсылать маркер(пакет определенного размера/содержания) после завершения отправки всех данных. А на получении маркера прекращать читать сокет;\n",
    "* Сначала отправить размер данных, а потом читать именно такой размер(код выше, но это не значит, что его нужно копипастить)."
   ]
  }
 ],
 "metadata": {
  "kernelspec": {
   "display_name": "Python 3",
   "language": "python",
   "name": "python3"
  },
  "language_info": {
   "codemirror_mode": {
    "name": "ipython",
    "version": 3
   },
   "file_extension": ".py",
   "mimetype": "text/x-python",
   "name": "python",
   "nbconvert_exporter": "python",
   "pygments_lexer": "ipython3",
   "version": "3.13.0"
  }
 },
 "nbformat": 4,
 "nbformat_minor": 2
}
